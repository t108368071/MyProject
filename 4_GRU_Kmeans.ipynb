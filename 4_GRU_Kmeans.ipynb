{
  "nbformat": 4,
  "nbformat_minor": 0,
  "metadata": {
    "colab": {
      "name": "4.GRU_Kmeans.ipynb",
      "provenance": [],
      "authorship_tag": "ABX9TyNIgx9ViWxw4YvvceJIPiuc",
      "include_colab_link": true
    },
    "kernelspec": {
      "name": "python3",
      "display_name": "Python 3"
    },
    "language_info": {
      "name": "python"
    },
    "accelerator": "GPU"
  },
  "cells": [
    {
      "cell_type": "markdown",
      "metadata": {
        "id": "view-in-github",
        "colab_type": "text"
      },
      "source": [
        "<a href=\"https://colab.research.google.com/github/t108368071/MyProject/blob/master/4_GRU_Kmeans.ipynb\" target=\"_parent\"><img src=\"https://colab.research.google.com/assets/colab-badge.svg\" alt=\"Open In Colab\"/></a>"
      ]
    },
    {
      "cell_type": "code",
      "metadata": {
        "colab": {
          "base_uri": "https://localhost:8080/",
          "height": 238
        },
        "id": "SGnT1MCAWk5u",
        "outputId": "b257fee6-0c81-4ad6-f54c-16eb2c79407c"
      },
      "source": [
        "import pandas as pd\n",
        "from google.colab import drive \n",
        "import numpy as np \n",
        "from sklearn.preprocessing import StandardScaler\n",
        "from sklearn.ensemble import RandomForestRegressor\n",
        "from sklearn.metrics import mean_absolute_error\n",
        "from sklearn.model_selection import train_test_split\n",
        "import matplotlib.pyplot as plt\n",
        "\n",
        "drive.mount('/content/gdrive')\n",
        "%cd /content/gdrive/MyDrive/Colab Notebooks/\n",
        "df_all = pd.read_csv(\"gru_low.csv\") \n",
        "\n",
        "#num_features = ['cardiac_period', 'SUT', 'DT', 'DW_10', 'DW_25', 'DW_33', 'DW_50', 'DW_66','DW_75', 'SW_10 + DW_10', 'SW_10/DW_10', 'SW_25 + DW_25', 'SW_25/DW_25', 'SW_33 + DW_33', 'SW_33/DW_33','SW_50 + DW_50', 'SW_50 / DW_50', 'SW_66 + DW_66', 'SW_66 / DW_66','SW_75 + DW_75', 'SW_75 / DW_75','area','area_s','area_d']\n",
        "\n",
        "#正常特徵\n",
        "#num_features = ['cardiac_period', 'SUT', 'DT','SW_25 + DW_25','SW_75 + DW_75','DW_50','SW_50 + DW_50','area_d']\n",
        "\n",
        "#高血壓特徵\n",
        "#num_features = ['cardiac_period','DT','area_d','area_s','SW_50 + DW_50','DW_33','SW_33/DW_33','SW_10/DW_10']\n",
        "\n",
        "#低血壓特徵\n",
        "num_features = ['cardiac_period','DT','area_d','area_s','SUT','area','SW_10/DW_10','SW_25/DW_25']\n",
        "\n",
        "#混和特徵\n",
        "#num_features = ['cardiac_period','SUT', 'DT','DW_50','SW_75 / DW_75','area_d','DW_75', 'SW_10/DW_10']\n",
        "\n",
        "#target = ['systolic']\n",
        "target = ['systolic','diastolic']\n",
        "\n",
        "df = df_all[num_features + target]\n",
        "df.head()"
      ],
      "execution_count": null,
      "outputs": [
        {
          "output_type": "stream",
          "text": [
            "Drive already mounted at /content/gdrive; to attempt to forcibly remount, call drive.mount(\"/content/gdrive\", force_remount=True).\n",
            "/content/gdrive/MyDrive/Colab Notebooks\n"
          ],
          "name": "stdout"
        },
        {
          "output_type": "execute_result",
          "data": {
            "text/html": [
              "<div>\n",
              "<style scoped>\n",
              "    .dataframe tbody tr th:only-of-type {\n",
              "        vertical-align: middle;\n",
              "    }\n",
              "\n",
              "    .dataframe tbody tr th {\n",
              "        vertical-align: top;\n",
              "    }\n",
              "\n",
              "    .dataframe thead th {\n",
              "        text-align: right;\n",
              "    }\n",
              "</style>\n",
              "<table border=\"1\" class=\"dataframe\">\n",
              "  <thead>\n",
              "    <tr style=\"text-align: right;\">\n",
              "      <th></th>\n",
              "      <th>cardiac_period</th>\n",
              "      <th>DT</th>\n",
              "      <th>area_d</th>\n",
              "      <th>area_s</th>\n",
              "      <th>SUT</th>\n",
              "      <th>area</th>\n",
              "      <th>SW_10/DW_10</th>\n",
              "      <th>SW_25/DW_25</th>\n",
              "      <th>systolic</th>\n",
              "      <th>diastolic</th>\n",
              "    </tr>\n",
              "  </thead>\n",
              "  <tbody>\n",
              "    <tr>\n",
              "      <th>0</th>\n",
              "      <td>91</td>\n",
              "      <td>63</td>\n",
              "      <td>0.810213</td>\n",
              "      <td>0.407793</td>\n",
              "      <td>35</td>\n",
              "      <td>1.240813</td>\n",
              "      <td>0.300000</td>\n",
              "      <td>0.500000</td>\n",
              "      <td>87.801905</td>\n",
              "      <td>52.556102</td>\n",
              "    </tr>\n",
              "    <tr>\n",
              "      <th>1</th>\n",
              "      <td>90</td>\n",
              "      <td>69</td>\n",
              "      <td>0.880192</td>\n",
              "      <td>0.394999</td>\n",
              "      <td>33</td>\n",
              "      <td>1.298010</td>\n",
              "      <td>0.301887</td>\n",
              "      <td>0.520000</td>\n",
              "      <td>86.121672</td>\n",
              "      <td>52.790553</td>\n",
              "    </tr>\n",
              "    <tr>\n",
              "      <th>2</th>\n",
              "      <td>92</td>\n",
              "      <td>60</td>\n",
              "      <td>0.840106</td>\n",
              "      <td>0.308852</td>\n",
              "      <td>21</td>\n",
              "      <td>1.173220</td>\n",
              "      <td>0.312500</td>\n",
              "      <td>0.285714</td>\n",
              "      <td>88.192656</td>\n",
              "      <td>52.907779</td>\n",
              "    </tr>\n",
              "    <tr>\n",
              "      <th>3</th>\n",
              "      <td>92</td>\n",
              "      <td>71</td>\n",
              "      <td>0.854964</td>\n",
              "      <td>0.385932</td>\n",
              "      <td>32</td>\n",
              "      <td>1.262827</td>\n",
              "      <td>0.304348</td>\n",
              "      <td>0.292683</td>\n",
              "      <td>85.301094</td>\n",
              "      <td>52.907779</td>\n",
              "    </tr>\n",
              "    <tr>\n",
              "      <th>4</th>\n",
              "      <td>90</td>\n",
              "      <td>68</td>\n",
              "      <td>0.882233</td>\n",
              "      <td>0.300477</td>\n",
              "      <td>21</td>\n",
              "      <td>1.205533</td>\n",
              "      <td>0.294118</td>\n",
              "      <td>0.520000</td>\n",
              "      <td>86.317048</td>\n",
              "      <td>52.751478</td>\n",
              "    </tr>\n",
              "  </tbody>\n",
              "</table>\n",
              "</div>"
            ],
            "text/plain": [
              "   cardiac_period  DT    area_d  ...  SW_25/DW_25   systolic  diastolic\n",
              "0              91  63  0.810213  ...     0.500000  87.801905  52.556102\n",
              "1              90  69  0.880192  ...     0.520000  86.121672  52.790553\n",
              "2              92  60  0.840106  ...     0.285714  88.192656  52.907779\n",
              "3              92  71  0.854964  ...     0.292683  85.301094  52.907779\n",
              "4              90  68  0.882233  ...     0.520000  86.317048  52.751478\n",
              "\n",
              "[5 rows x 10 columns]"
            ]
          },
          "metadata": {
            "tags": []
          },
          "execution_count": 50
        }
      ]
    },
    {
      "cell_type": "code",
      "metadata": {
        "id": "bmaGRSTL7ZEo"
      },
      "source": [
        "def normalize(df):\n",
        "    norm = df.apply(lambda x: (x - np.min(x)) / (np.max(x) - np.min(x)))\n",
        "    return norm"
      ],
      "execution_count": null,
      "outputs": []
    },
    {
      "cell_type": "code",
      "metadata": {
        "colab": {
          "base_uri": "https://localhost:8080/",
          "height": 419
        },
        "id": "htK2zjSr6feD",
        "outputId": "7b6efa1d-a571-4e3a-d0c7-ddc93f08e5c8"
      },
      "source": [
        "df = normalize(df)\n",
        "df"
      ],
      "execution_count": null,
      "outputs": [
        {
          "output_type": "execute_result",
          "data": {
            "text/html": [
              "<div>\n",
              "<style scoped>\n",
              "    .dataframe tbody tr th:only-of-type {\n",
              "        vertical-align: middle;\n",
              "    }\n",
              "\n",
              "    .dataframe tbody tr th {\n",
              "        vertical-align: top;\n",
              "    }\n",
              "\n",
              "    .dataframe thead th {\n",
              "        text-align: right;\n",
              "    }\n",
              "</style>\n",
              "<table border=\"1\" class=\"dataframe\">\n",
              "  <thead>\n",
              "    <tr style=\"text-align: right;\">\n",
              "      <th></th>\n",
              "      <th>cardiac_period</th>\n",
              "      <th>DT</th>\n",
              "      <th>area_d</th>\n",
              "      <th>area_s</th>\n",
              "      <th>SUT</th>\n",
              "      <th>area</th>\n",
              "      <th>SW_10/DW_10</th>\n",
              "      <th>SW_25/DW_25</th>\n",
              "      <th>systolic</th>\n",
              "      <th>diastolic</th>\n",
              "    </tr>\n",
              "  </thead>\n",
              "  <tbody>\n",
              "    <tr>\n",
              "      <th>0</th>\n",
              "      <td>0.411765</td>\n",
              "      <td>0.511628</td>\n",
              "      <td>0.442904</td>\n",
              "      <td>0.681965</td>\n",
              "      <td>0.913043</td>\n",
              "      <td>0.485605</td>\n",
              "      <td>0.167241</td>\n",
              "      <td>0.378364</td>\n",
              "      <td>0.592283</td>\n",
              "      <td>0.064660</td>\n",
              "    </tr>\n",
              "    <tr>\n",
              "      <th>1</th>\n",
              "      <td>0.392157</td>\n",
              "      <td>0.651163</td>\n",
              "      <td>0.533626</td>\n",
              "      <td>0.651973</td>\n",
              "      <td>0.826087</td>\n",
              "      <td>0.537280</td>\n",
              "      <td>0.169486</td>\n",
              "      <td>0.400861</td>\n",
              "      <td>0.536093</td>\n",
              "      <td>0.070591</td>\n",
              "    </tr>\n",
              "    <tr>\n",
              "      <th>2</th>\n",
              "      <td>0.431373</td>\n",
              "      <td>0.441860</td>\n",
              "      <td>0.481657</td>\n",
              "      <td>0.450027</td>\n",
              "      <td>0.304348</td>\n",
              "      <td>0.424536</td>\n",
              "      <td>0.182112</td>\n",
              "      <td>0.137321</td>\n",
              "      <td>0.605351</td>\n",
              "      <td>0.073556</td>\n",
              "    </tr>\n",
              "    <tr>\n",
              "      <th>3</th>\n",
              "      <td>0.431373</td>\n",
              "      <td>0.697674</td>\n",
              "      <td>0.500920</td>\n",
              "      <td>0.630717</td>\n",
              "      <td>0.782609</td>\n",
              "      <td>0.505493</td>\n",
              "      <td>0.172414</td>\n",
              "      <td>0.145160</td>\n",
              "      <td>0.508651</td>\n",
              "      <td>0.073556</td>\n",
              "    </tr>\n",
              "    <tr>\n",
              "      <th>4</th>\n",
              "      <td>0.392157</td>\n",
              "      <td>0.627907</td>\n",
              "      <td>0.536272</td>\n",
              "      <td>0.430393</td>\n",
              "      <td>0.304348</td>\n",
              "      <td>0.453730</td>\n",
              "      <td>0.160243</td>\n",
              "      <td>0.400861</td>\n",
              "      <td>0.542626</td>\n",
              "      <td>0.069603</td>\n",
              "    </tr>\n",
              "    <tr>\n",
              "      <th>...</th>\n",
              "      <td>...</td>\n",
              "      <td>...</td>\n",
              "      <td>...</td>\n",
              "      <td>...</td>\n",
              "      <td>...</td>\n",
              "      <td>...</td>\n",
              "      <td>...</td>\n",
              "      <td>...</td>\n",
              "      <td>...</td>\n",
              "      <td>...</td>\n",
              "    </tr>\n",
              "    <tr>\n",
              "      <th>13382</th>\n",
              "      <td>0.431373</td>\n",
              "      <td>0.558140</td>\n",
              "      <td>0.314417</td>\n",
              "      <td>0.394059</td>\n",
              "      <td>0.521739</td>\n",
              "      <td>0.280607</td>\n",
              "      <td>0.199687</td>\n",
              "      <td>0.244451</td>\n",
              "      <td>0.790594</td>\n",
              "      <td>0.761533</td>\n",
              "    </tr>\n",
              "    <tr>\n",
              "      <th>13383</th>\n",
              "      <td>0.352941</td>\n",
              "      <td>0.465116</td>\n",
              "      <td>0.485571</td>\n",
              "      <td>0.612798</td>\n",
              "      <td>0.565217</td>\n",
              "      <td>0.488325</td>\n",
              "      <td>0.226724</td>\n",
              "      <td>0.220883</td>\n",
              "      <td>0.702387</td>\n",
              "      <td>0.761533</td>\n",
              "    </tr>\n",
              "    <tr>\n",
              "      <th>13384</th>\n",
              "      <td>0.333333</td>\n",
              "      <td>0.488372</td>\n",
              "      <td>0.539673</td>\n",
              "      <td>0.771765</td>\n",
              "      <td>0.565217</td>\n",
              "      <td>0.588061</td>\n",
              "      <td>0.405172</td>\n",
              "      <td>0.483820</td>\n",
              "      <td>0.712188</td>\n",
              "      <td>0.723230</td>\n",
              "    </tr>\n",
              "    <tr>\n",
              "      <th>13385</th>\n",
              "      <td>0.372549</td>\n",
              "      <td>0.488372</td>\n",
              "      <td>0.506724</td>\n",
              "      <td>0.719243</td>\n",
              "      <td>0.608696</td>\n",
              "      <td>0.542840</td>\n",
              "      <td>0.239401</td>\n",
              "      <td>0.477617</td>\n",
              "      <td>0.842865</td>\n",
              "      <td>0.878913</td>\n",
              "    </tr>\n",
              "    <tr>\n",
              "      <th>13386</th>\n",
              "      <td>0.333333</td>\n",
              "      <td>0.441860</td>\n",
              "      <td>0.597218</td>\n",
              "      <td>0.871061</td>\n",
              "      <td>0.565217</td>\n",
              "      <td>0.667828</td>\n",
              "      <td>0.391954</td>\n",
              "      <td>0.541651</td>\n",
              "      <td>0.900036</td>\n",
              "      <td>0.892504</td>\n",
              "    </tr>\n",
              "  </tbody>\n",
              "</table>\n",
              "<p>13387 rows × 10 columns</p>\n",
              "</div>"
            ],
            "text/plain": [
              "       cardiac_period        DT    area_d  ...  SW_25/DW_25  systolic  diastolic\n",
              "0            0.411765  0.511628  0.442904  ...     0.378364  0.592283   0.064660\n",
              "1            0.392157  0.651163  0.533626  ...     0.400861  0.536093   0.070591\n",
              "2            0.431373  0.441860  0.481657  ...     0.137321  0.605351   0.073556\n",
              "3            0.431373  0.697674  0.500920  ...     0.145160  0.508651   0.073556\n",
              "4            0.392157  0.627907  0.536272  ...     0.400861  0.542626   0.069603\n",
              "...               ...       ...       ...  ...          ...       ...        ...\n",
              "13382        0.431373  0.558140  0.314417  ...     0.244451  0.790594   0.761533\n",
              "13383        0.352941  0.465116  0.485571  ...     0.220883  0.702387   0.761533\n",
              "13384        0.333333  0.488372  0.539673  ...     0.483820  0.712188   0.723230\n",
              "13385        0.372549  0.488372  0.506724  ...     0.477617  0.842865   0.878913\n",
              "13386        0.333333  0.441860  0.597218  ...     0.541651  0.900036   0.892504\n",
              "\n",
              "[13387 rows x 10 columns]"
            ]
          },
          "metadata": {
            "tags": []
          },
          "execution_count": 52
        }
      ]
    },
    {
      "cell_type": "code",
      "metadata": {
        "id": "1P1q8YSp2_a8"
      },
      "source": [
        "def buildTrain(train, pastDay=5, futureDay=1):\n",
        "  X_train, Y_train = [], []\n",
        "  for i in range(train.shape[0]-futureDay-pastDay):\n",
        "    X_train.append(np.array(train.iloc[i:i+pastDay]))\n",
        "    Y_train.append(np.array(train.iloc[i+pastDay:i+pastDay+futureDay][[\"systolic\",\"diastolic\"]]))\n",
        "  return np.array(X_train), np.array(Y_train)\n",
        "\n",
        "def shuffle(X,Y):\n",
        "  np.random.seed(10)\n",
        "  randomList = np.arange(X.shape[0])\n",
        "  np.random.shuffle(randomList)\n",
        "  return X[randomList], Y[randomList]\n",
        "\n",
        "\n",
        "def splitData(X,Y,rate):\n",
        "  X_train = X[int(X.shape[0]*rate):]\n",
        "  Y_train = Y[int(Y.shape[0]*rate):]\n",
        "  X_val = X[:int(X.shape[0]*rate)]\n",
        "  Y_val = Y[:int(Y.shape[0]*rate)]\n",
        "  return X_train, Y_train, X_val, Y_val"
      ],
      "execution_count": null,
      "outputs": []
    },
    {
      "cell_type": "code",
      "metadata": {
        "id": "Wnp8SPgb3DCV"
      },
      "source": [
        "# build Data, use last 10 days to predict next 1 days\n",
        "X_train, Y_train = buildTrain(df, 10, 1)\n",
        "\n",
        "# shuffle the data, and random seed is 10\n",
        "X_train, Y_train = shuffle(X_train, Y_train)\n",
        "\n",
        "# split training data and validation data\n",
        "X_train, Y_train, X_val, Y_val = splitData(X_train, Y_train, 0.25)\n",
        "X_val, Y_val, X_test, Y_test = splitData(X_val, Y_val, 0.585)"
      ],
      "execution_count": null,
      "outputs": []
    },
    {
      "cell_type": "code",
      "metadata": {
        "colab": {
          "base_uri": "https://localhost:8080/"
        },
        "id": "XgIRsQCW3Evi",
        "outputId": "2da7fbff-c471-4674-d82a-4b3e031bb6e4"
      },
      "source": [
        "print(X_train.shape)\n",
        "print(Y_train.shape)\n",
        "print(X_val.shape)\n",
        "print(Y_val.shape)\n",
        "print(X_test.shape)\n",
        "print(Y_test.shape)"
      ],
      "execution_count": null,
      "outputs": [
        {
          "output_type": "stream",
          "text": [
            "(10032, 10, 10)\n",
            "(10032, 1, 2)\n",
            "(1388, 10, 10)\n",
            "(1388, 1, 2)\n",
            "(1956, 10, 10)\n",
            "(1956, 1, 2)\n"
          ],
          "name": "stdout"
        }
      ]
    },
    {
      "cell_type": "code",
      "metadata": {
        "id": "W8XU5l-a3Hkq"
      },
      "source": [
        "Y_train=Y_train.reshape(X_train.shape[0],2)\n",
        "Y_val=Y_val.reshape(X_val.shape[0],2)\n",
        "Y_test=Y_test.reshape(X_test.shape[0],2)"
      ],
      "execution_count": null,
      "outputs": []
    },
    {
      "cell_type": "code",
      "metadata": {
        "id": "yWRFumEI3Kes"
      },
      "source": [
        "from keras import optimizers,Sequential\n",
        "from keras.models import Sequential\n",
        "from keras.layers import Dense, Dropout, Activation, Flatten, LSTM, TimeDistributed, RepeatVector,GRU\n",
        "from keras.layers.normalization import BatchNormalization\n",
        "from keras.callbacks import EarlyStopping, ModelCheckpoint\n",
        "\n",
        "def buildManyToOneModel(shape):\n",
        "  model = Sequential()\n",
        "  model.add(GRU(200, input_length=shape[1], input_dim=shape[2], return_sequences=True))\n",
        "  model.add(GRU(400))\n",
        "  model.add(Dense(2,activation='relu'))\n",
        "  opt = optimizers.Adam(learning_rate=0.0001)\n",
        "  model.compile(loss='mean_squared_error', optimizer=opt)\n",
        "  model.summary()\n",
        "  return model"
      ],
      "execution_count": null,
      "outputs": []
    },
    {
      "cell_type": "code",
      "metadata": {
        "colab": {
          "base_uri": "https://localhost:8080/"
        },
        "id": "PaVDrozu3OP2",
        "outputId": "ea707f64-e8f5-476f-8691-8facf504805f"
      },
      "source": [
        "model = buildManyToOneModel(X_train.shape)\n",
        "callback = EarlyStopping(monitor='loss', min_delta=0.001, patience=100,  verbose=1, mode='min')\n",
        "#history=model.fit(X_train, Y_train, epochs=500, batch_size=64, validation_data=(X_val, Y_val), callbacks=[callback])\n",
        "history=model.fit(X_train, Y_train, epochs=500, batch_size=64,callbacks=[callback])"
      ],
      "execution_count": null,
      "outputs": [
        {
          "output_type": "stream",
          "text": [
            "Model: \"sequential_4\"\n",
            "_________________________________________________________________\n",
            "Layer (type)                 Output Shape              Param #   \n",
            "=================================================================\n",
            "gru_8 (GRU)                  (None, 10, 200)           127200    \n",
            "_________________________________________________________________\n",
            "gru_9 (GRU)                  (None, 400)               722400    \n",
            "_________________________________________________________________\n",
            "dense_4 (Dense)              (None, 2)                 802       \n",
            "=================================================================\n",
            "Total params: 850,402\n",
            "Trainable params: 850,402\n",
            "Non-trainable params: 0\n",
            "_________________________________________________________________\n",
            "Epoch 1/500\n",
            "157/157 [==============================] - 4s 5ms/step - loss: 0.0265\n",
            "Epoch 2/500\n",
            "157/157 [==============================] - 1s 5ms/step - loss: 0.0034\n",
            "Epoch 3/500\n",
            "157/157 [==============================] - 1s 5ms/step - loss: 0.0034\n",
            "Epoch 4/500\n",
            "157/157 [==============================] - 1s 5ms/step - loss: 0.0032\n",
            "Epoch 5/500\n",
            "157/157 [==============================] - 1s 5ms/step - loss: 0.0030\n",
            "Epoch 6/500\n",
            "157/157 [==============================] - 1s 5ms/step - loss: 0.0030\n",
            "Epoch 7/500\n",
            "157/157 [==============================] - 1s 5ms/step - loss: 0.0031\n",
            "Epoch 8/500\n",
            "157/157 [==============================] - 1s 5ms/step - loss: 0.0030\n",
            "Epoch 9/500\n",
            "157/157 [==============================] - 1s 5ms/step - loss: 0.0030\n",
            "Epoch 10/500\n",
            "157/157 [==============================] - 1s 5ms/step - loss: 0.0030\n",
            "Epoch 11/500\n",
            "157/157 [==============================] - 1s 5ms/step - loss: 0.0031\n",
            "Epoch 12/500\n",
            "157/157 [==============================] - 1s 5ms/step - loss: 0.0029\n",
            "Epoch 13/500\n",
            "157/157 [==============================] - 1s 5ms/step - loss: 0.0031\n",
            "Epoch 14/500\n",
            "157/157 [==============================] - 1s 5ms/step - loss: 0.0029\n",
            "Epoch 15/500\n",
            "157/157 [==============================] - 1s 5ms/step - loss: 0.0028\n",
            "Epoch 16/500\n",
            "157/157 [==============================] - 1s 5ms/step - loss: 0.0029\n",
            "Epoch 17/500\n",
            "157/157 [==============================] - 1s 5ms/step - loss: 0.0029\n",
            "Epoch 18/500\n",
            "157/157 [==============================] - 1s 5ms/step - loss: 0.0029\n",
            "Epoch 19/500\n",
            "157/157 [==============================] - 1s 5ms/step - loss: 0.0028\n",
            "Epoch 20/500\n",
            "157/157 [==============================] - 1s 5ms/step - loss: 0.0030\n",
            "Epoch 21/500\n",
            "157/157 [==============================] - 1s 5ms/step - loss: 0.0028\n",
            "Epoch 22/500\n",
            "157/157 [==============================] - 1s 5ms/step - loss: 0.0030\n",
            "Epoch 23/500\n",
            "157/157 [==============================] - 1s 5ms/step - loss: 0.0028\n",
            "Epoch 24/500\n",
            "157/157 [==============================] - 1s 5ms/step - loss: 0.0029\n",
            "Epoch 25/500\n",
            "157/157 [==============================] - 1s 5ms/step - loss: 0.0028\n",
            "Epoch 26/500\n",
            "157/157 [==============================] - 1s 5ms/step - loss: 0.0029\n",
            "Epoch 27/500\n",
            "157/157 [==============================] - 1s 5ms/step - loss: 0.0030\n",
            "Epoch 28/500\n",
            "157/157 [==============================] - 1s 5ms/step - loss: 0.0028\n",
            "Epoch 29/500\n",
            "157/157 [==============================] - 1s 5ms/step - loss: 0.0028\n",
            "Epoch 30/500\n",
            "157/157 [==============================] - 1s 5ms/step - loss: 0.0027\n",
            "Epoch 31/500\n",
            "157/157 [==============================] - 1s 5ms/step - loss: 0.0028\n",
            "Epoch 32/500\n",
            "157/157 [==============================] - 1s 5ms/step - loss: 0.0028\n",
            "Epoch 33/500\n",
            "157/157 [==============================] - 1s 5ms/step - loss: 0.0029\n",
            "Epoch 34/500\n",
            "157/157 [==============================] - 1s 5ms/step - loss: 0.0029\n",
            "Epoch 35/500\n",
            "157/157 [==============================] - 1s 5ms/step - loss: 0.0029\n",
            "Epoch 36/500\n",
            "157/157 [==============================] - 1s 5ms/step - loss: 0.0028\n",
            "Epoch 37/500\n",
            "157/157 [==============================] - 1s 5ms/step - loss: 0.0028\n",
            "Epoch 38/500\n",
            "157/157 [==============================] - 1s 5ms/step - loss: 0.0027\n",
            "Epoch 39/500\n",
            "157/157 [==============================] - 1s 5ms/step - loss: 0.0029\n",
            "Epoch 40/500\n",
            "157/157 [==============================] - 1s 5ms/step - loss: 0.0029\n",
            "Epoch 41/500\n",
            "157/157 [==============================] - 1s 5ms/step - loss: 0.0029\n",
            "Epoch 42/500\n",
            "157/157 [==============================] - 1s 5ms/step - loss: 0.0027\n",
            "Epoch 43/500\n",
            "157/157 [==============================] - 1s 5ms/step - loss: 0.0028\n",
            "Epoch 44/500\n",
            "157/157 [==============================] - 1s 5ms/step - loss: 0.0029\n",
            "Epoch 45/500\n",
            "157/157 [==============================] - 1s 5ms/step - loss: 0.0027\n",
            "Epoch 46/500\n",
            "157/157 [==============================] - 1s 5ms/step - loss: 0.0028\n",
            "Epoch 47/500\n",
            "157/157 [==============================] - 1s 5ms/step - loss: 0.0029\n",
            "Epoch 48/500\n",
            "157/157 [==============================] - 1s 5ms/step - loss: 0.0028\n",
            "Epoch 49/500\n",
            "157/157 [==============================] - 1s 5ms/step - loss: 0.0027\n",
            "Epoch 50/500\n",
            "157/157 [==============================] - 1s 5ms/step - loss: 0.0028\n",
            "Epoch 51/500\n",
            "157/157 [==============================] - 1s 5ms/step - loss: 0.0028\n",
            "Epoch 52/500\n",
            "157/157 [==============================] - 1s 5ms/step - loss: 0.0028\n",
            "Epoch 53/500\n",
            "157/157 [==============================] - 1s 5ms/step - loss: 0.0026\n",
            "Epoch 54/500\n",
            "157/157 [==============================] - 1s 5ms/step - loss: 0.0030\n",
            "Epoch 55/500\n",
            "157/157 [==============================] - 1s 5ms/step - loss: 0.0029\n",
            "Epoch 56/500\n",
            "157/157 [==============================] - 1s 5ms/step - loss: 0.0029\n",
            "Epoch 57/500\n",
            "157/157 [==============================] - 1s 5ms/step - loss: 0.0029\n",
            "Epoch 58/500\n",
            "157/157 [==============================] - 1s 5ms/step - loss: 0.0026\n",
            "Epoch 59/500\n",
            "157/157 [==============================] - 1s 5ms/step - loss: 0.0027\n",
            "Epoch 60/500\n",
            "157/157 [==============================] - 1s 5ms/step - loss: 0.0028\n",
            "Epoch 61/500\n",
            "157/157 [==============================] - 1s 5ms/step - loss: 0.0027\n",
            "Epoch 62/500\n",
            "157/157 [==============================] - 1s 5ms/step - loss: 0.0027\n",
            "Epoch 63/500\n",
            "157/157 [==============================] - 1s 5ms/step - loss: 0.0027\n",
            "Epoch 64/500\n",
            "157/157 [==============================] - 1s 5ms/step - loss: 0.0027\n",
            "Epoch 65/500\n",
            "157/157 [==============================] - 1s 5ms/step - loss: 0.0028\n",
            "Epoch 66/500\n",
            "157/157 [==============================] - 1s 5ms/step - loss: 0.0027\n",
            "Epoch 67/500\n",
            "157/157 [==============================] - 1s 5ms/step - loss: 0.0026\n",
            "Epoch 68/500\n",
            "157/157 [==============================] - 1s 5ms/step - loss: 0.0027\n",
            "Epoch 69/500\n",
            "157/157 [==============================] - 1s 5ms/step - loss: 0.0027\n",
            "Epoch 70/500\n",
            "157/157 [==============================] - 1s 5ms/step - loss: 0.0028\n",
            "Epoch 71/500\n",
            "157/157 [==============================] - 1s 5ms/step - loss: 0.0027\n",
            "Epoch 72/500\n",
            "157/157 [==============================] - 1s 5ms/step - loss: 0.0026\n",
            "Epoch 73/500\n",
            "157/157 [==============================] - 1s 5ms/step - loss: 0.0026\n",
            "Epoch 74/500\n",
            "157/157 [==============================] - 1s 5ms/step - loss: 0.0028\n",
            "Epoch 75/500\n",
            "157/157 [==============================] - 1s 5ms/step - loss: 0.0027\n",
            "Epoch 76/500\n",
            "157/157 [==============================] - 1s 5ms/step - loss: 0.0026\n",
            "Epoch 77/500\n",
            "157/157 [==============================] - 1s 5ms/step - loss: 0.0026\n",
            "Epoch 78/500\n",
            "157/157 [==============================] - 1s 5ms/step - loss: 0.0027\n",
            "Epoch 79/500\n",
            "157/157 [==============================] - 1s 5ms/step - loss: 0.0026\n",
            "Epoch 80/500\n",
            "157/157 [==============================] - 1s 5ms/step - loss: 0.0026\n",
            "Epoch 81/500\n",
            "157/157 [==============================] - 1s 5ms/step - loss: 0.0027\n",
            "Epoch 82/500\n",
            "157/157 [==============================] - 1s 5ms/step - loss: 0.0028\n",
            "Epoch 83/500\n",
            "157/157 [==============================] - 1s 5ms/step - loss: 0.0026\n",
            "Epoch 84/500\n",
            "157/157 [==============================] - 1s 5ms/step - loss: 0.0027\n",
            "Epoch 85/500\n",
            "157/157 [==============================] - 1s 5ms/step - loss: 0.0028\n",
            "Epoch 86/500\n",
            "157/157 [==============================] - 1s 5ms/step - loss: 0.0028\n",
            "Epoch 87/500\n",
            "157/157 [==============================] - 1s 5ms/step - loss: 0.0028\n",
            "Epoch 88/500\n",
            "157/157 [==============================] - 1s 5ms/step - loss: 0.0027\n",
            "Epoch 89/500\n",
            "157/157 [==============================] - 1s 5ms/step - loss: 0.0026\n",
            "Epoch 90/500\n",
            "157/157 [==============================] - 1s 5ms/step - loss: 0.0027\n",
            "Epoch 91/500\n",
            "157/157 [==============================] - 1s 5ms/step - loss: 0.0028\n",
            "Epoch 92/500\n",
            "157/157 [==============================] - 1s 5ms/step - loss: 0.0027\n",
            "Epoch 93/500\n",
            "157/157 [==============================] - 1s 5ms/step - loss: 0.0026\n",
            "Epoch 94/500\n",
            "157/157 [==============================] - 1s 5ms/step - loss: 0.0028\n",
            "Epoch 95/500\n",
            "157/157 [==============================] - 1s 5ms/step - loss: 0.0028\n",
            "Epoch 96/500\n",
            "157/157 [==============================] - 1s 5ms/step - loss: 0.0027\n",
            "Epoch 97/500\n",
            "157/157 [==============================] - 1s 5ms/step - loss: 0.0027\n",
            "Epoch 98/500\n",
            "157/157 [==============================] - 1s 5ms/step - loss: 0.0029\n",
            "Epoch 99/500\n",
            "157/157 [==============================] - 1s 5ms/step - loss: 0.0029\n",
            "Epoch 100/500\n",
            "157/157 [==============================] - 1s 5ms/step - loss: 0.0027\n",
            "Epoch 101/500\n",
            "157/157 [==============================] - 1s 5ms/step - loss: 0.0026\n",
            "Epoch 102/500\n",
            "157/157 [==============================] - 1s 5ms/step - loss: 0.0027\n",
            "Epoch 00102: early stopping\n"
          ],
          "name": "stdout"
        }
      ]
    },
    {
      "cell_type": "code",
      "metadata": {
        "id": "jBDaHBMy_Asm"
      },
      "source": [
        "#高血壓\n",
        "#SBP_MIN = 133.002\n",
        "#SBP_RANGE = 56.9817\n",
        "#DBP_MIN = 65.0016\n",
        "#DBP_RANGE = 34.9919\n",
        "#低血壓\n",
        "SBP_MIN = 70.0913\n",
        "SBP_RANGE = 29.9023\n",
        "DBP_MIN = 50\n",
        "DBP_RANGE = 39.5312"
      ],
      "execution_count": null,
      "outputs": []
    },
    {
      "cell_type": "code",
      "metadata": {
        "id": "A_VZU8jj_23g"
      },
      "source": [
        "SBP_Ans = Y_test[:,0]\n",
        "DBP_Ans = Y_test[:,1]\n",
        "O_SBP = (SBP_Ans * SBP_RANGE) + SBP_MIN  \n",
        "O_DBP = (DBP_Ans * DBP_RANGE) + DBP_MIN  "
      ],
      "execution_count": null,
      "outputs": []
    },
    {
      "cell_type": "code",
      "metadata": {
        "id": "LvJ_z-ch8_sF"
      },
      "source": [
        "testPredict = model.predict(X_test)\n",
        "SBP = testPredict[:,0]\n",
        "DBP = testPredict[:,1]\n",
        "P_SBP = (SBP * SBP_RANGE) + SBP_MIN  \n",
        "P_DBP = (DBP * DBP_RANGE) + DBP_MIN  "
      ],
      "execution_count": null,
      "outputs": []
    },
    {
      "cell_type": "code",
      "metadata": {
        "colab": {
          "base_uri": "https://localhost:8080/",
          "height": 607
        },
        "id": "c0XP_PJvAY2X",
        "outputId": "977f4b11-849c-4dc5-e02d-b506b3e79a70"
      },
      "source": [
        "from sklearn.metrics import mean_absolute_error\n",
        "\n",
        "error_sbp = P_SBP - O_SBP\n",
        "error_dbp = P_DBP - O_DBP\n",
        "\n",
        "mae_error_sbp = mean_absolute_error(P_SBP,O_SBP)\n",
        "mae_error_dbp = mean_absolute_error(P_DBP,O_DBP)\n",
        "\n",
        "error_sbp_std = np.std(abs(error_sbp)) \n",
        "error_dbp_std = np.std(abs(error_dbp)) \n",
        "\n",
        "print(f\"MAE SBP: {mae_error_sbp} SD:{error_sbp_std} MAE DBP: {mae_error_dbp} SD:{error_dbp_std}\")\n",
        "\n",
        "plt.figure(1)\n",
        "plt.title(\"Systolic\")\n",
        "plt.xlabel(\"sample\") \n",
        "plt.ylabel(\"mmHg\") \n",
        "plt.plot(P_SBP)\n",
        "plt.plot(O_SBP)\n",
        "\n",
        "plt.figure(2)\n",
        "plt.title(\"Diastolic\")\n",
        "plt.xlabel(\"sample\") \n",
        "plt.ylabel(\"mmHg\")\n",
        "plt.plot(P_DBP)\n",
        "plt.plot(O_DBP)"
      ],
      "execution_count": null,
      "outputs": [
        {
          "output_type": "stream",
          "text": [
            "MAE SBP: 1.2822573788028409 SD:1.5995927181710508 MAE DBP: 1.037957121072758 SD:1.1308034288083322\n"
          ],
          "name": "stdout"
        },
        {
          "output_type": "execute_result",
          "data": {
            "text/plain": [
              "[<matplotlib.lines.Line2D at 0x7f0667fe14d0>]"
            ]
          },
          "metadata": {
            "tags": []
          },
          "execution_count": 62
        },
        {
          "output_type": "display_data",
          "data": {
            "image/png": "[encoded data removed]",
            "text/plain": [
              "<Figure size 432x288 with 1 Axes>"
            ]
          },
          "metadata": {
            "tags": [],
            "needs_background": "light"
          }
        },
        {
          "output_type": "display_data",
          "data": {
            "image/png": "[encoded data removed]",
            "text/plain": [
              "<Figure size 432x288 with 1 Axes>"
            ]
          },
          "metadata": {
            "tags": [],
            "needs_background": "light"
          }
        }
      ]
    },
    {
      "cell_type": "code",
      "metadata": {
        "id": "ZkfsprX3Hzo6"
      },
      "source": [
        "np.savetxt('gru_low_分布圖_0722.csv',np.column_stack((O_SBP,P_SBP,O_DBP,P_DBP)),delimiter=',')"
      ],
      "execution_count": null,
      "outputs": []
    },
    {
      "cell_type": "code",
      "metadata": {
        "id": "zwwFTRkjI_s8"
      },
      "source": [
        "trainPredict = model.predict(X_train)\n",
        "trainSBP_Ans = Y_train[:,0]\n",
        "trainDBP_Ans = Y_train[:,1]\n",
        "train_O_SBP = (trainSBP_Ans * SBP_RANGE) + SBP_MIN  \n",
        "train_O_DBP = (trainDBP_Ans * DBP_RANGE) + DBP_MIN\n",
        "\n",
        "trainSBP = trainPredict[:,0]\n",
        "trainDBP = trainPredict[:,1]\n",
        "train_P_SBP = (trainSBP * SBP_RANGE) + SBP_MIN  \n",
        "train_P_DBP = (trainDBP * DBP_RANGE) + DBP_MIN "
      ],
      "execution_count": null,
      "outputs": []
    },
    {
      "cell_type": "code",
      "metadata": {
        "colab": {
          "base_uri": "https://localhost:8080/",
          "height": 607
        },
        "id": "5zaR-dR1KORQ",
        "outputId": "6dcd775b-7974-4c6d-8055-655253a34140"
      },
      "source": [
        "train_error_sbp = train_P_SBP - train_O_SBP\n",
        "train_error_dbp = train_P_DBP - train_O_DBP\n",
        "\n",
        "train_mae_error_sbp = mean_absolute_error(train_P_SBP,train_O_SBP)\n",
        "train_mae_error_dbp = mean_absolute_error(train_P_DBP,train_O_DBP)\n",
        "\n",
        "train_error_sbp_std = np.std(abs(train_error_sbp)) \n",
        "train_error_dbp_std = np.std(abs(train_error_dbp)) \n",
        "\n",
        "print(f\"MAE SBP: {train_mae_error_sbp} SD:{train_error_sbp_std} MAE DBP: {train_mae_error_dbp} SD:{train_error_dbp_std}\")\n",
        "\n",
        "plt.figure(1)\n",
        "plt.title(\"Systolic\")\n",
        "plt.xlabel(\"sample\") \n",
        "plt.ylabel(\"mmHg\") \n",
        "plt.plot(train_P_SBP)\n",
        "plt.plot(train_O_SBP)\n",
        "\n",
        "plt.figure(2)\n",
        "plt.title(\"Diastolic\")\n",
        "plt.xlabel(\"sample\") \n",
        "plt.ylabel(\"mmHg\")\n",
        "plt.plot(train_P_DBP)\n",
        "plt.plot(train_O_DBP)"
      ],
      "execution_count": null,
      "outputs": [
        {
          "output_type": "stream",
          "text": [
            "MAE SBP: 0.21857103515062629 SD:0.188038225185247 MAE DBP: 0.2532130660377661 SD:0.20816886004759874\n"
          ],
          "name": "stdout"
        },
        {
          "output_type": "execute_result",
          "data": {
            "text/plain": [
              "[<matplotlib.lines.Line2D at 0x7ff0dc646150>]"
            ]
          },
          "metadata": {
            "tags": []
          },
          "execution_count": 20
        },
        {
          "output_type": "display_data",
          "data": {
            "image/png": "[encoded data removed]",
            "text/plain": [
              "<Figure size 432x288 with 1 Axes>"
            ]
          },
          "metadata": {
            "tags": [],
            "needs_background": "light"
          }
        },
        {
          "output_type": "display_data",
          "data": {
            "image/png": "[encoded data removed]",
            "text/plain": [
              "<Figure size 432x288 with 1 Axes>"
            ]
          },
          "metadata": {
            "tags": [],
            "needs_background": "light"
          }
        }
      ]
    },
    {
      "cell_type": "code",
      "metadata": {
        "id": "aWK7g4EWK_eO"
      },
      "source": [
        "np.save('GRU_low_Feature',X_train)\n",
        "np.save('GRU_low_Feature_test',X_test)\n",
        "np.save('GRU_low_error_sbp',train_error_sbp)\n",
        "np.save('GRU_low_error_dbp',train_error_dbp)\n",
        "np.save('GRU_low_actual_sbp',O_SBP)\n",
        "np.save('GRU_low_actual_dbp',O_DBP)\n",
        "np.save('GRU_low_predict_sbp',P_SBP)\n",
        "np.save('GRU_low_predict_dbp',P_DBP)"
      ],
      "execution_count": null,
      "outputs": []
    },
    {
      "cell_type": "code",
      "metadata": {
        "colab": {
          "base_uri": "https://localhost:8080/",
          "height": 295
        },
        "id": "5zQdjqKwEN_I",
        "outputId": "754b4857-91e0-4b60-ce28-85886b4f175e"
      },
      "source": [
        "# summarize history for loss\n",
        "plt.plot(history.history['loss'])\n",
        "plt.plot(history.history['val_loss'])\n",
        "plt.title('model loss')\n",
        "plt.ylabel('loss')\n",
        "plt.xlabel('epoch')\n",
        "plt.legend(['train', 'validation'], loc='upper left')\n",
        "plt.show()"
      ],
      "execution_count": null,
      "outputs": [
        {
          "output_type": "display_data",
          "data": {
            "image/png": "[encoded data removed]",
            "text/plain": [
              "<Figure size 432x288 with 1 Axes>"
            ]
          },
          "metadata": {
            "tags": [],
            "needs_background": "light"
          }
        }
      ]
    }
  ]
}